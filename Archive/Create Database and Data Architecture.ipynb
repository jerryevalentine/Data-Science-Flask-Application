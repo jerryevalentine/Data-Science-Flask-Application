{
 "cells": [
  {
   "cell_type": "markdown",
   "id": "9243d792-554f-4718-8218-b777a7b4185d",
   "metadata": {},
   "source": [
    "# Create Database and Data Architecture"
   ]
  },
  {
   "cell_type": "code",
   "execution_count": 3,
   "id": "d097503a-8cbf-4808-b150-af67cc0c0295",
   "metadata": {},
   "outputs": [
    {
     "name": "stdout",
     "output_type": "stream",
     "text": [
      "Database and tables created successfully.\n"
     ]
    }
   ],
   "source": [
    "import sqlite3\n",
    "import os\n",
    "\n",
    "# Create the 'database' folder if it doesn't exist\n",
    "if not os.path.exists('database'):\n",
    "    os.makedirs('database')\n",
    "\n",
    "# Path to the SQLite database file\n",
    "db_path = os.path.join('database', 'data_science_application.db')\n",
    "\n",
    "# Connect to the SQLite database (it will be created if it doesn't exist)\n",
    "conn = sqlite3.connect(db_path)\n",
    "cursor = conn.cursor()\n",
    "\n",
    "# Enable foreign key support\n",
    "cursor.execute(\"PRAGMA foreign_keys = ON;\")\n",
    "\n",
    "# Create the business_metadata table\n",
    "cursor.execute('''\n",
    "CREATE TABLE IF NOT EXISTS business_metadata (\n",
    "    business_glossary_term_id INTEGER PRIMARY KEY,\n",
    "    business_glossary_term TEXT NOT NULL,\n",
    "    business_glossary_definition TEXT NOT NULL\n",
    ")\n",
    "''')\n",
    "\n",
    "# Commit changes and close the connection\n",
    "conn.commit()\n",
    "conn.close()\n",
    "\n",
    "print(\"Database and tables created successfully.\")\n"
   ]
  },
  {
   "cell_type": "markdown",
   "id": "4cfbabb6-821d-4f71-a079-0e339225b217",
   "metadata": {},
   "source": [
    "# Confirm Database Architecture"
   ]
  },
  {
   "cell_type": "code",
   "execution_count": 5,
   "id": "19be2810-fa5b-412f-9314-0f2fe64264fc",
   "metadata": {},
   "outputs": [
    {
     "data": {
      "text/html": [
       "<div>\n",
       "<style scoped>\n",
       "    .dataframe tbody tr th:only-of-type {\n",
       "        vertical-align: middle;\n",
       "    }\n",
       "\n",
       "    .dataframe tbody tr th {\n",
       "        vertical-align: top;\n",
       "    }\n",
       "\n",
       "    .dataframe thead th {\n",
       "        text-align: right;\n",
       "    }\n",
       "</style>\n",
       "<table border=\"1\" class=\"dataframe\">\n",
       "  <thead>\n",
       "    <tr style=\"text-align: right;\">\n",
       "      <th></th>\n",
       "      <th>table_name</th>\n",
       "      <th>column_name</th>\n",
       "      <th>data_type</th>\n",
       "      <th>primary_key</th>\n",
       "      <th>foreign_key</th>\n",
       "    </tr>\n",
       "  </thead>\n",
       "  <tbody>\n",
       "    <tr>\n",
       "      <th>0</th>\n",
       "      <td>business_metadata</td>\n",
       "      <td>business_glossary_term_id</td>\n",
       "      <td>INTEGER</td>\n",
       "      <td>yes</td>\n",
       "      <td>no</td>\n",
       "    </tr>\n",
       "    <tr>\n",
       "      <th>1</th>\n",
       "      <td>business_metadata</td>\n",
       "      <td>business_glossary_term</td>\n",
       "      <td>TEXT</td>\n",
       "      <td>no</td>\n",
       "      <td>no</td>\n",
       "    </tr>\n",
       "    <tr>\n",
       "      <th>2</th>\n",
       "      <td>business_metadata</td>\n",
       "      <td>business_glossary_definition</td>\n",
       "      <td>TEXT</td>\n",
       "      <td>no</td>\n",
       "      <td>no</td>\n",
       "    </tr>\n",
       "  </tbody>\n",
       "</table>\n",
       "</div>"
      ],
      "text/plain": [
       "          table_name                   column_name data_type primary_key  \\\n",
       "0  business_metadata     business_glossary_term_id   INTEGER         yes   \n",
       "1  business_metadata        business_glossary_term      TEXT          no   \n",
       "2  business_metadata  business_glossary_definition      TEXT          no   \n",
       "\n",
       "  foreign_key  \n",
       "0          no  \n",
       "1          no  \n",
       "2          no  "
      ]
     },
     "execution_count": 5,
     "metadata": {},
     "output_type": "execute_result"
    }
   ],
   "source": [
    "# Import the DataArchitecture class\n",
    "from libraries.DataArchitecture import DataArchitecture\n",
    "import os\n",
    "\n",
    "# Path to the SQLite database file\n",
    "db_path = os.path.join('database', 'data_science_application.db')\n",
    "\n",
    "# Create an instance of DataArchitecture\n",
    "data_arch = DataArchitecture(db_path)\n",
    "\n",
    "# Retrieve and display the schema\n",
    "schema_df = data_arch.show_schema()\n",
    "schema_df.head(50)\n"
   ]
  },
  {
   "cell_type": "code",
   "execution_count": null,
   "id": "597090f5-1c11-4c95-9ab5-acdae1e81c3a",
   "metadata": {},
   "outputs": [],
   "source": []
  }
 ],
 "metadata": {
  "kernelspec": {
   "display_name": "Python 3 (ipykernel)",
   "language": "python",
   "name": "python3"
  },
  "language_info": {
   "codemirror_mode": {
    "name": "ipython",
    "version": 3
   },
   "file_extension": ".py",
   "mimetype": "text/x-python",
   "name": "python",
   "nbconvert_exporter": "python",
   "pygments_lexer": "ipython3",
   "version": "3.12.4"
  }
 },
 "nbformat": 4,
 "nbformat_minor": 5
}
